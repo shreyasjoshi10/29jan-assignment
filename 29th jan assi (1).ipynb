{
 "cells": [
  {
   "cell_type": "code",
   "execution_count": 2,
   "id": "0802d9e5-ecad-4508-856e-cd349975d441",
   "metadata": {},
   "outputs": [],
   "source": [
    "q1 = 'who developed python programming language?'"
   ]
  },
  {
   "cell_type": "code",
   "execution_count": 3,
   "id": "5f8d3c8a-6064-460d-a5fc-f4e776656c87",
   "metadata": {},
   "outputs": [],
   "source": [
    "ans = 'Guido van Rossum'"
   ]
  },
  {
   "cell_type": "code",
   "execution_count": 4,
   "id": "c797a113-f907-42d8-8599-227bbe411dce",
   "metadata": {},
   "outputs": [],
   "source": [
    "q2 = 'which type of programming does python support'"
   ]
  },
  {
   "cell_type": "code",
   "execution_count": 6,
   "id": "002bee71-360c-4fa6-b245-946e4f23942e",
   "metadata": {},
   "outputs": [],
   "source": [
    "ans = 'Python is an interpreted programming language, supporting object-oriented, structured, and functional programming'"
   ]
  },
  {
   "cell_type": "code",
   "execution_count": 7,
   "id": "97fb6b83-9585-43c0-b4c7-112a0192210b",
   "metadata": {},
   "outputs": [],
   "source": [
    "q3 = 'is python case sensitive when dealing with identifiers'"
   ]
  },
  {
   "cell_type": "code",
   "execution_count": 8,
   "id": "e230cb6b-1188-42fe-9165-b7056e52b3ed",
   "metadata": {},
   "outputs": [],
   "source": [
    "ans = 'Yes, Python is a case-sensitive language, i.e., it treats uppercase and lowercase characters differently. This applies to identifiers too. You must avoid using the same name with different cases while naming identifiers'"
   ]
  },
  {
   "cell_type": "code",
   "execution_count": 9,
   "id": "e5fddb58-7f58-4ad6-9ba5-2ab1e6b140cd",
   "metadata": {},
   "outputs": [],
   "source": [
    "q4 = 'what is the correct extension of the python file'"
   ]
  },
  {
   "cell_type": "code",
   "execution_count": 10,
   "id": "026aa92d-4b99-4502-90e4-808315dca370",
   "metadata": {},
   "outputs": [],
   "source": [
    "ans = '.py or .pyi'"
   ]
  },
  {
   "cell_type": "code",
   "execution_count": 11,
   "id": "a2692999-44c6-46cc-9413-694d1379e073",
   "metadata": {},
   "outputs": [],
   "source": [
    "q5 = 'is python code complied or interpreted'"
   ]
  },
  {
   "cell_type": "code",
   "execution_count": 12,
   "id": "b9e73639-46bb-467b-aa22-52c31a8d6dad",
   "metadata": {},
   "outputs": [],
   "source": [
    "ans = 'Python is both compiled as well as an interpreted language, which means when we run a python code, it is first compiled and then interpreted line by line'"
   ]
  },
  {
   "cell_type": "code",
   "execution_count": 13,
   "id": "0e191cd8-b390-4938-af56-b70a573eaf16",
   "metadata": {},
   "outputs": [],
   "source": [
    "q6 = 'name a few blocks of code used to define in python language'"
   ]
  },
  {
   "cell_type": "code",
   "execution_count": 14,
   "id": "90e81351-ab04-4042-aa52-a89cde217dc8",
   "metadata": {},
   "outputs": [],
   "source": [
    "ans = 'The following are blocks: a module, a function body, and a class definition. Each command typed interactively is a block'"
   ]
  },
  {
   "cell_type": "code",
   "execution_count": 15,
   "id": "210318a1-3394-4547-b02d-bae77e778f0e",
   "metadata": {},
   "outputs": [],
   "source": [
    "q7 = 'state a character used to give single-line comments in python'"
   ]
  },
  {
   "cell_type": "code",
   "execution_count": 16,
   "id": "38900821-acd5-45ea-a301-5b256a65fb27",
   "metadata": {},
   "outputs": [],
   "source": [
    "ans = 'Hash character(#) is used to comment the line in the Python program. Comments does not have to be text to explain the code, it can also be used to prevent Python from executing code'"
   ]
  },
  {
   "cell_type": "code",
   "execution_count": 17,
   "id": "0f0776c6-ca79-4b06-98c4-637c69130f22",
   "metadata": {},
   "outputs": [],
   "source": [
    "q8 = 'Mention functions which can help us to find the version of python that we are currently working on'"
   ]
  },
  {
   "cell_type": "code",
   "execution_count": 22,
   "id": "40a6f4c6-7ada-448b-ae21-a2ab5fa2e123",
   "metadata": {},
   "outputs": [],
   "source": [
    "ans = ('using sys.version method',\n",
    "'using python_version() function',\n",
    "'using Python -V command')"
   ]
  },
  {
   "cell_type": "code",
   "execution_count": 23,
   "id": "f5461f7c-19cf-4888-9b6b-060cb5a02548",
   "metadata": {},
   "outputs": [],
   "source": [
    "q9 = 'Python supports the creation of anonymous functions at runtime, using a construct called'"
   ]
  },
  {
   "cell_type": "code",
   "execution_count": 24,
   "id": "082e018a-885d-4759-bc65-687263f1b4ad",
   "metadata": {},
   "outputs": [],
   "source": [
    "ans = \"lambda\""
   ]
  },
  {
   "cell_type": "code",
   "execution_count": 25,
   "id": "a8b69490-aed2-4d80-bd61-63b7b052e3b4",
   "metadata": {},
   "outputs": [],
   "source": [
    "q10 = 'What does pip stand for python?'"
   ]
  },
  {
   "cell_type": "code",
   "execution_count": 26,
   "id": "61b01734-093d-4041-b845-36b8e33a6bdd",
   "metadata": {},
   "outputs": [],
   "source": [
    "ans = 'preferred installer program'"
   ]
  },
  {
   "cell_type": "code",
   "execution_count": 27,
   "id": "89b5ac91-b27d-403e-9791-eb9d0d1955ef",
   "metadata": {},
   "outputs": [],
   "source": [
    "q11 = 'Mention a few built-in functions in python?'"
   ]
  },
  {
   "cell_type": "code",
   "execution_count": 28,
   "id": "c8da116e-d657-4592-aa74-22858467fec9",
   "metadata": {},
   "outputs": [],
   "source": [
    "ans = ('print( ) function', 'type( ) function', 'input( ) function', 'len( ) function')"
   ]
  },
  {
   "cell_type": "code",
   "execution_count": 29,
   "id": "1b54ae87-3abf-4cfc-ac61-c392b3b5640c",
   "metadata": {},
   "outputs": [],
   "source": [
    "q12 = ' What is the maximum possible length of an identifier in Python?'"
   ]
  },
  {
   "cell_type": "code",
   "execution_count": 30,
   "id": "2165e284-e202-47c7-b997-03a5e37437b6",
   "metadata": {},
   "outputs": [],
   "source": [
    "ans = 'An identifier can have a maximum length of 79 characters in Python'"
   ]
  },
  {
   "cell_type": "code",
   "execution_count": null,
   "id": "7ce1e78e-ef74-43db-831e-6b55c81cf7d9",
   "metadata": {},
   "outputs": [],
   "source": [
    "q13 = 'What are the benefits of using Python?'"
   ]
  },
  {
   "cell_type": "code",
   "execution_count": null,
   "id": "6c6b7e67-6c4b-4e44-8395-cd226a7b4209",
   "metadata": {},
   "outputs": [],
   "source": [
    "ans = 'Almost all of the tasks done in Python requires less coding when the same task is done in other languages. Python also has awesome standard library support, so you don't have to search for any third-party libraries to get your job done.'"
   ]
  },
  {
   "cell_type": "code",
   "execution_count": null,
   "id": "b3d7d1cc-a0a0-45e0-a1e9-406f2353c109",
   "metadata": {},
   "outputs": [],
   "source": [
    "q14 = 'How is memory managed in Python?'"
   ]
  },
  {
   "cell_type": "code",
   "execution_count": null,
   "id": "07f717ca-4576-4ce3-948c-c7f842f68744",
   "metadata": {},
   "outputs": [],
   "source": [
    "ans = 'Memory management in Python involves a private heap containing all Python objects and data structures. The management of this private heap is ensured internally by the Python memory manager.'"
   ]
  },
  {
   "cell_type": "code",
   "execution_count": null,
   "id": "ad576b96-780c-4c9c-9116-161d4e5e6a78",
   "metadata": {},
   "outputs": [],
   "source": [
    "q15 = 'How to install Python on Windows and set path variables?'"
   ]
  },
  {
   "cell_type": "code",
   "execution_count": null,
   "id": "e0cefb67-79a5-4f8f-b0c8-27ad0acfa99b",
   "metadata": {},
   "outputs": [],
   "source": [
    "ans = ('right click on My Computer and click on properties')\n",
    "('click on Advanced System settings')\n",
    "('click on Environment Variable tab')\n",
    "('click on new tab of user variables')\n",
    "('write path in variable name')\n",
    "('copy the path of Python folder')\n",
    "('paste path of Python in variable value') \n",
    "('click on Ok button: Click on Ok button')"
   ]
  },
  {
   "cell_type": "code",
   "execution_count": null,
   "id": "91585450-4900-4cc6-8b61-c2919423cd19",
   "metadata": {},
   "outputs": [],
   "source": [
    "q16 = 'is indentation required in python?'"
   ]
  },
  {
   "cell_type": "code",
   "execution_count": null,
   "id": "c5565be9-39c1-4c87-95f8-db40647f079d",
   "metadata": {},
   "outputs": [],
   "source": [
    "ans = 'the indentation in python is very important python uses indentation to indicate a block of code'"
   ]
  },
  {
   "cell_type": "code",
   "execution_count": null,
   "id": "9304c10a-5791-4df5-8e87-fbe6ed8c9c1d",
   "metadata": {},
   "outputs": [],
   "source": [
    "ans"
   ]
  },
  {
   "cell_type": "code",
   "execution_count": null,
   "id": "a25f6713-d447-4d3a-8beb-95a8152bdff4",
   "metadata": {},
   "outputs": [],
   "source": [
    "ans"
   ]
  },
  {
   "cell_type": "code",
   "execution_count": null,
   "id": "38a8ddd3-bd78-4a23-bd9d-4a9c7fcc0d72",
   "metadata": {},
   "outputs": [],
   "source": []
  }
 ],
 "metadata": {
  "kernelspec": {
   "display_name": "Python 3 (ipykernel)",
   "language": "python",
   "name": "python3"
  },
  "language_info": {
   "codemirror_mode": {
    "name": "ipython",
    "version": 3
   },
   "file_extension": ".py",
   "mimetype": "text/x-python",
   "name": "python",
   "nbconvert_exporter": "python",
   "pygments_lexer": "ipython3",
   "version": "3.10.8"
  }
 },
 "nbformat": 4,
 "nbformat_minor": 5
}
